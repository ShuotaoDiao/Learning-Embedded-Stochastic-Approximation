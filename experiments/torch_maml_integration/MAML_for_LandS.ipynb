{
  "nbformat": 4,
  "nbformat_minor": 0,
  "metadata": {
    "kernelspec": {
      "display_name": "Python 3",
      "language": "python",
      "name": "python3"
    },
    "language_info": {
      "codemirror_mode": {
        "name": "ipython",
        "version": 3
      },
      "file_extension": ".py",
      "mimetype": "text/x-python",
      "name": "python",
      "nbconvert_exporter": "python",
      "pygments_lexer": "ipython3",
      "version": "3.7.3"
    },
    "colab": {
      "name": "MAML for LandS.ipynb",
      "provenance": []
    }
  },
  "cells": [
    {
      "cell_type": "code",
      "metadata": {
        "id": "ow_9fy7XFka_"
      },
      "source": [
        "import numpy as np\n",
        "import matplotlib.pyplot as plt\n",
        "%matplotlib inline\n",
        "import torch, torch.nn as nn\n",
        "import torch.nn.functional as F\n",
        "import torchvision.models as models\n",
        "from sklearn.model_selection import train_test_split\n",
        "import pandas as pd\n",
        "import torch_maml\n",
        "\n",
        "device = 'cuda' if torch.cuda.is_available() else 'cpu'"
      ],
      "execution_count": null,
      "outputs": []
    },
    {
      "cell_type": "code",
      "metadata": {
        "id": "7b9PXzqQFkbA"
      },
      "source": [
        "def loss_fn(model, data, device):\n",
        "    inputs, targets = data\n",
        "    predicted = model(inputs.to(device=device))\n",
        "#     print(predicted, targets)\n",
        "    loss = F.mse_loss(predicted, targets.to(device=device))\n",
        "    return loss"
      ],
      "execution_count": null,
      "outputs": []
    },
    {
      "cell_type": "code",
      "metadata": {
        "id": "OMIfg5QZFkbA"
      },
      "source": [
        "import torch.nn.functional as F\n",
        "# Neural Network Architecture \n",
        "# Linear, output units: 40\n",
        "# ReLU \n",
        "# Linear, output units: 1\n",
        "\n",
        "class maml_m1(nn.Module):\n",
        "    def __init__(self, nz):\n",
        "        super().__init__()\n",
        "        self.net = nn.Sequential(\n",
        "            nn.Linear(nz, 40, bias=True),\n",
        "            nn.ReLU(),\n",
        "            nn.Linear(40, 1, bias=True)\n",
        "        )\n",
        "    \n",
        "    def get_weights(self):\n",
        "        weights_dict = {}\n",
        "        for name, parameter in self.net.named_parameters():\n",
        "            weights_dict[name] = parameter\n",
        "        return weights_dict\n",
        "    \n",
        "    def adapt_forward(self, x, weights_dict):\n",
        "        x = F.linear(x, weights_dict['0.weight'], weights_dict['0.bias'])\n",
        "        x = F.relu(x)\n",
        "        x = F.linear(x, weights_dict['2.weight'], weights_dict['2.bias'])\n",
        "        return x\n",
        "    \n",
        "    def forward(self, x):\n",
        "        return self.net(x)"
      ],
      "execution_count": null,
      "outputs": []
    },
    {
      "cell_type": "code",
      "metadata": {
        "id": "mFtrBK0bFkbA"
      },
      "source": [
        "# load landS file \n",
        "landS_data = pd.read_csv('/Users/raoniveditha/Documents/CSCI566/Project/datasets/landS_sample5.csv')\n",
        "# split the data file \n",
        "landS_train, landS_val = train_test_split(landS_data, test_size=0.2)\n",
        "\n",
        "# load landS2 file \n",
        "landS2_data = pd.read_csv('/Users/raoniveditha/Documents/CSCI566/Project/datasets/landS2_sample4.csv')\n",
        "# split the data file \n",
        "landS2_train, landS2_val = train_test_split(landS2_data, test_size=0.2)"
      ],
      "execution_count": null,
      "outputs": []
    },
    {
      "cell_type": "code",
      "metadata": {
        "id": "uzGat8koFkbA"
      },
      "source": [
        "# set up data loader \n",
        "batch_size = 40\n",
        "nworkers = 4\n",
        "landS_train_data_loader = torch.utils.data.DataLoader(landS_train.to_numpy(), batch_size=batch_size, shuffle=True, num_workers=nworkers)\n",
        "landS_val_data_loader = torch.utils.data.DataLoader(landS_val.to_numpy(), batch_size=batch_size, shuffle=True, num_workers=nworkers)\n",
        "\n",
        "landS2_train_data_loader = torch.utils.data.DataLoader(landS2_train.to_numpy(), batch_size=batch_size, shuffle=True, num_workers=nworkers)\n",
        "landS2_val_data_loader = torch.utils.data.DataLoader(landS2_val.to_numpy(), batch_size=batch_size, shuffle=True, num_workers=nworkers)"
      ],
      "execution_count": null,
      "outputs": []
    },
    {
      "cell_type": "code",
      "metadata": {
        "id": "LNjorVJLFkbA"
      },
      "source": [
        "# dictionary for the data loader \n",
        "train_data_loader = {}\n",
        "val_data_loader = {}\n",
        "\n",
        "tasks = ['landS', 'landS2']\n",
        "train_data_loader['landS'] = landS_train_data_loader\n",
        "train_data_loader['landS2'] = landS2_train_data_loader\n",
        "\n",
        "val_data_loader['landS'] = landS_val_data_loader\n",
        "val_data_loader['landS2'] = landS2_val_data_loader"
      ],
      "execution_count": null,
      "outputs": []
    },
    {
      "cell_type": "code",
      "metadata": {
        "id": "4BRLnWcDFkbA"
      },
      "source": [
        "beta = 1e-5\n",
        "alpha = 1e-5\n",
        "nz = 7 # number of input units \n",
        "optimizer = torch_maml.IngraphGradientDescent(learning_rate=0.0001)\n",
        "# optimizer = torch_maml.IngraphRMSProp(learning_rate=0.01, beta=0.0008, epsilon=0.0001)\n",
        "model = maml_m1(nz).to(device=device)\n",
        "maml = torch_maml.GradientCheckpointMAML(model, loss_fn, optimizer=optimizer, checkpoint_steps=5)\n",
        "maml_steps = 3000\n",
        "\n",
        "# Clip meta-learning gradients by global norm to avoid explosion\n",
        "max_grad_grad_norm = 1e2\n"
      ],
      "execution_count": null,
      "outputs": []
    },
    {
      "cell_type": "code",
      "metadata": {
        "id": "wK2usKhYFkbA",
        "outputId": "8d9c6033-455a-4c3b-c318-36114af4590c"
      },
      "source": [
        "inputs = None\n",
        "outputs = None\n",
        "batch = None\n",
        "for data in landS_train_data_loader:\n",
        "    input_size = data.shape[1]\n",
        "#     x = data[:,:-1].clone().detach()\n",
        "    ip_data = data[:,:-1].clone().detach().to(dtype=torch.float)\n",
        "    inner_loop_sample = F.pad(input=ip_data, pad=(0,2,0,0), mode='constant', value=0)\n",
        "#     print(inner_loop_sample)\n",
        "    h_value = data[:,-1].clone().detach().to(dtype=torch.float)\n",
        "    outputs = h_value.view(-1,1)\n",
        "    inputs = [(inner_loop_sample, outputs)] * maml_steps\n",
        "    batch = inner_loop_sample\n",
        "    print(batch.shape, outputs.shape)\n",
        "    break"
      ],
      "execution_count": null,
      "outputs": [
        {
          "output_type": "stream",
          "text": [
            "torch.Size([40, 7]) torch.Size([40, 1])\n"
          ],
          "name": "stdout"
        }
      ]
    },
    {
      "cell_type": "code",
      "metadata": {
        "id": "k6sCyRE1FkbC",
        "outputId": "422f5508-1913-43fe-9e17-45e3a0d1e2df"
      },
      "source": [
        "updated_model, loss_history, _ = maml(inputs, loss_kwargs={'device':device}, max_grad_grad_norm=max_grad_grad_norm)\n",
        "final_loss = loss_fn(updated_model, (batch, outputs), device=device)\n",
        "final_loss.backward()\n",
        "grads = [params.grad for params in model.parameters()]\n",
        "print(\"Loss naive: %.4f\" % final_loss.item())\n",
        "# print(loss_history)\n",
        "plt.plot(loss_history)"
      ],
      "execution_count": null,
      "outputs": [
        {
          "output_type": "stream",
          "text": [
            "Loss naive: 8.8527\n"
          ],
          "name": "stdout"
        },
        {
          "output_type": "execute_result",
          "data": {
            "text/plain": [
              "[<matplotlib.lines.Line2D at 0x13c4e9da0>]"
            ]
          },
          "metadata": {
            "tags": []
          },
          "execution_count": 267
        },
        {
          "output_type": "display_data",
          "data": {
            "image/png": "[encoded data removed]",
            "text/plain": [
              "<Figure size 432x288 with 1 Axes>"
            ]
          },
          "metadata": {
            "tags": [],
            "needs_background": "light"
          }
        }
      ]
    },
    {
      "cell_type": "code",
      "metadata": {
        "id": "bofXNr72FkbC"
      },
      "source": [
        "inputs = None\n",
        "outputs = None\n",
        "batch = None\n",
        "for data in landS2_train_data_loader:\n",
        "    input_size = data.shape[1]\n",
        "#     x = data[:,:-1].clone().detach()\n",
        "    inner_loop_sample = data[:,:-1].clone().detach().to(dtype=torch.float)\n",
        "#     print(inner_loop_sample)\n",
        "    h_value = data[:,-1].clone().detach().to(dtype=torch.float)\n",
        "    outputs = h_value.view(-1,1)\n",
        "    inputs = [(inner_loop_sample, outputs)] * maml_steps\n",
        "    batch = inner_loop_sample\n",
        "    break"
      ],
      "execution_count": null,
      "outputs": []
    },
    {
      "cell_type": "code",
      "metadata": {
        "id": "Wm-RZtUfFkbC",
        "outputId": "b81068b6-1536-4334-844f-5bd7e730bb49"
      },
      "source": [
        "updated_model, loss_history, _ = maml(inputs, loss_kwargs={'device':device}, max_grad_grad_norm=max_grad_grad_norm)\n",
        "final_loss = loss_fn(updated_model, (batch, outputs), device=device)\n",
        "final_loss.backward()\n",
        "grads = [params.grad for params in model.parameters()]\n",
        "print(\"Loss naive: %.4f\" % final_loss.item())\n",
        "# print(loss_history)\n",
        "plt.plot(loss_history)"
      ],
      "execution_count": null,
      "outputs": [
        {
          "output_type": "stream",
          "text": [
            "Loss naive: 5.3847\n"
          ],
          "name": "stdout"
        },
        {
          "output_type": "execute_result",
          "data": {
            "text/plain": [
              "[<matplotlib.lines.Line2D at 0x13a81c9e8>]"
            ]
          },
          "metadata": {
            "tags": []
          },
          "execution_count": 273
        },
        {
          "output_type": "display_data",
          "data": {
            "image/png": "[encoded data removed]",
            "text/plain": [
              "<Figure size 432x288 with 1 Axes>"
            ]
          },
          "metadata": {
            "tags": [],
            "needs_background": "light"
          }
        }
      ]
    },
    {
      "cell_type": "code",
      "metadata": {
        "id": "2czR959QFkbC"
      },
      "source": [
        ""
      ],
      "execution_count": null,
      "outputs": []
    }
  ]
}