{
 "cells": [
  {
   "cell_type": "markdown",
   "metadata": {
    "id": "h9NjsprrlmKh"
   },
   "source": [
    "**Model Agnostic Meta Learning**"
   ]
  },
  {
   "cell_type": "code",
   "execution_count": 1,
   "metadata": {
    "colab": {
     "base_uri": "https://localhost:8080/"
    },
    "id": "cGa9WaGzfCmn",
    "outputId": "bc8f7bd5-42a4-4e4b-c160-7a04b1d6ef93"
   },
   "outputs": [
    {
     "name": "stdout",
     "output_type": "stream",
     "text": [
      "Collecting git+https://github.com/szagoruyko/pytorchviz\n",
      "  Cloning https://github.com/szagoruyko/pytorchviz to /private/var/folders/b0/b2chjjqx1gv8kclv1wdjtw840000gn/T/pip-req-build-j0g5t18p\n",
      "Requirement already satisfied (use --upgrade to upgrade): torchviz==0.0.1 from git+https://github.com/szagoruyko/pytorchviz in /Users/raoniveditha/Documents/CSCI566/assignment3/venv_cs566_hw3/lib/python3.7/site-packages\n",
      "Requirement already satisfied: torch in /Users/raoniveditha/Documents/CSCI566/assignment3/venv_cs566_hw3/lib/python3.7/site-packages (from torchviz==0.0.1) (1.7.0)\n",
      "Requirement already satisfied: graphviz in /Users/raoniveditha/Documents/CSCI566/assignment3/venv_cs566_hw3/lib/python3.7/site-packages (from torchviz==0.0.1) (0.14.2)\n",
      "Requirement already satisfied: typing-extensions in /Users/raoniveditha/Documents/CSCI566/assignment3/venv_cs566_hw3/lib/python3.7/site-packages (from torch->torchviz==0.0.1) (3.7.4.3)\n",
      "Requirement already satisfied: dataclasses in /Users/raoniveditha/Documents/CSCI566/assignment3/venv_cs566_hw3/lib/python3.7/site-packages (from torch->torchviz==0.0.1) (0.6)\n",
      "Requirement already satisfied: future in /Users/raoniveditha/Documents/CSCI566/assignment3/venv_cs566_hw3/lib/python3.7/site-packages (from torch->torchviz==0.0.1) (0.18.2)\n",
      "Requirement already satisfied: numpy in /Users/raoniveditha/Documents/CSCI566/assignment3/venv_cs566_hw3/lib/python3.7/site-packages (from torch->torchviz==0.0.1) (1.19.4)\n",
      "Building wheels for collected packages: torchviz\n",
      "  Building wheel for torchviz (setup.py) ... \u001b[?25ldone\n",
      "\u001b[?25h  Created wheel for torchviz: filename=torchviz-0.0.1-py3-none-any.whl size=4340 sha256=893543388862b336a7a703bddad42b94d1ea10971c906613940d9d9ec94d0473\n",
      "  Stored in directory: /private/var/folders/b0/b2chjjqx1gv8kclv1wdjtw840000gn/T/pip-ephem-wheel-cache-rd12y9dv/wheels/2b/c4/0f/ca56745daf357286cad7d6a34ea87bb22986ae67d01fb35200\n",
      "Successfully built torchviz\n",
      "\u001b[33mWARNING: You are using pip version 20.2.3; however, version 20.2.4 is available.\n",
      "You should consider upgrading via the '/Users/raoniveditha/Documents/CSCI566/assignment3/venv_cs566_hw3/bin/python -m pip install --upgrade pip' command.\u001b[0m\n"
     ]
    }
   ],
   "source": [
    "\n",
    "!pip install git+https://github.com/szagoruyko/pytorchviz"
   ]
  },
  {
   "cell_type": "code",
   "execution_count": 11,
   "metadata": {
    "id": "vw9lLAN5ljsE"
   },
   "outputs": [],
   "source": [
    "import torch\n",
    "import torchvision\n",
    "import numpy as np\n",
    "import matplotlib.pyplot as plt\n",
    "import pandas as pd\n",
    "from sklearn.model_selection import train_test_split\n",
    "from torchviz import make_dot, make_dot_from_trace\n",
    "import torch_maml"
   ]
  },
  {
   "cell_type": "markdown",
   "metadata": {
    "id": "QKAUd1syeA0w"
   },
   "source": [
    "**Load Dataset**"
   ]
  },
  {
   "cell_type": "code",
   "execution_count": 3,
   "metadata": {
    "colab": {
     "base_uri": "https://localhost:8080/",
     "height": 449
    },
    "id": "QgD_1aYheA0x",
    "outputId": "a63154d1-49eb-4bcc-f449-cf4fd636228d"
   },
   "outputs": [],
   "source": [
    "# load baa99 file \n",
    "baa99_data = pd.read_csv('/Users/raoniveditha/Documents/CSCI566/Project/datasets/baa99_sample4.csv')\n",
    "# split the data file \n",
    "baa99_train, baa99_val = train_test_split(baa99_data, test_size=0.2)\n",
    "\n",
    "# load landS file \n",
    "landS_data = pd.read_csv('/Users/raoniveditha/Documents/CSCI566/Project/datasets/landS_sample4.csv')\n",
    "# split the data file \n",
    "landS_train, landS_val = train_test_split(landS_data, test_size=0.2)"
   ]
  },
  {
   "cell_type": "code",
   "execution_count": 4,
   "metadata": {
    "id": "fpn5EkyDeA05"
   },
   "outputs": [],
   "source": [
    "# set up data loader \n",
    "batch_size = 40\n",
    "nworkers = 4\n",
    "baa99_train_data_loader = torch.utils.data.DataLoader(baa99_train.to_numpy(), batch_size=batch_size, shuffle=True, num_workers=nworkers)\n",
    "baa99_val_data_loader = torch.utils.data.DataLoader(baa99_val.to_numpy(), batch_size=batch_size, shuffle=True, num_workers=nworkers)\n",
    "\n",
    "landS_train_data_loader = torch.utils.data.DataLoader(landS_train.to_numpy(), batch_size=batch_size, shuffle=True, num_workers=nworkers)\n",
    "landS_val_data_loader = torch.utils.data.DataLoader(landS_val.to_numpy(), batch_size=batch_size, shuffle=True, num_workers=nworkers)"
   ]
  },
  {
   "cell_type": "markdown",
   "metadata": {
    "id": "PPgIyRwgeA1A"
   },
   "source": [
    "Define the task list"
   ]
  },
  {
   "cell_type": "code",
   "execution_count": 5,
   "metadata": {
    "id": "X9_1ibUpeA1C"
   },
   "outputs": [],
   "source": [
    "# dictionary for the data loader \n",
    "train_data_loader = {}\n",
    "val_data_loader = {}\n",
    "\n",
    "tasks = ['baa99', 'landS']\n",
    "train_data_loader['baa99'] = baa99_train_data_loader\n",
    "train_data_loader['landS'] = landS_train_data_loader\n",
    "\n",
    "val_data_loader['baa99'] = baa99_val_data_loader\n",
    "val_data_loader['landS'] = landS_val_data_loader"
   ]
  },
  {
   "cell_type": "markdown",
   "metadata": {
    "id": "my3VkOWJeA1G"
   },
   "source": [
    "**Neural Network Config**"
   ]
  },
  {
   "cell_type": "code",
   "execution_count": 13,
   "metadata": {
    "id": "F1I03tXqeA1H"
   },
   "outputs": [],
   "source": [
    "# Neural Network Architecture \n",
    "# Linear, output units: 40\n",
    "# ReLU \n",
    "# Linear, output units: 1\n",
    "config = [\n",
    "    ('linear', [nz, 40]),\n",
    "    ('relu', [True]),\n",
    "    ('linear', [40,1])\n",
    "]\n",
    "       "
   ]
  },
  {
   "cell_type": "code",
   "execution_count": null,
   "metadata": {
    "id": "17LlpnpIeA1N"
   },
   "outputs": [],
   "source": [
    "config = [\n",
    "    ('linear', [nz, 40]),\n",
    "    ('relu', [True]),\n",
    "    ('linear', [40,80])\n",
    "    ('relu', [True]),\n",
    "    ('linear', [80, 40]),\n",
    "    ('relu', [True]),\n",
    "    ('linear', [40,1]),\n",
    "]"
   ]
  },
  {
   "cell_type": "markdown",
   "metadata": {
    "id": "KDbYjZPCeA1S"
   },
   "source": [
    "**Test on specialized model**"
   ]
  },
  {
   "cell_type": "code",
   "execution_count": 24,
   "metadata": {
    "id": "zbHv2Nm-eA1U",
    "outputId": "7e2163ef-7dfd-4852-995b-c7055cb347ad"
   },
   "outputs": [
    {
     "name": "stdout",
     "output_type": "stream",
     "text": [
      "Run Epoch 0\n"
     ]
    },
    {
     "name": "stderr",
     "output_type": "stream",
     "text": [
      "/Users/raoniveditha/Documents/CSCI566/assignment3/venv_cs566_hw3/lib/python3.7/site-packages/ipykernel_launcher.py:20: UserWarning: To copy construct from a tensor, it is recommended to use sourceTensor.clone().detach() or sourceTensor.clone().detach().requires_grad_(True), rather than torch.tensor(sourceTensor).\n",
      "/Users/raoniveditha/Documents/CSCI566/assignment3/venv_cs566_hw3/lib/python3.7/site-packages/ipykernel_launcher.py:21: UserWarning: To copy construct from a tensor, it is recommended to use sourceTensor.clone().detach() or sourceTensor.clone().detach().requires_grad_(True), rather than torch.tensor(sourceTensor).\n"
     ]
    }
   ],
   "source": [
    "epoch = 1\n",
    "learning_rate = 1e-4\n",
    "nz = 10\n",
    "\n",
    "# build an neural network model\n",
    "nn_landS_model = nn_m1(nz)\n",
    "\n",
    "# set up the optimizer \n",
    "opt = torch.optim.Adam(nn_landS_model.parameters(), lr=learning_rate)\n",
    "criterion = nn.MSELoss() # MSE loss\n",
    "\n",
    "train_it = 0\n",
    "loss_record = []\n",
    "for ep in range(epoch):\n",
    "  print(\"Run Epoch {}\".format(ep))\n",
    "  for data in landS_train_data_loader:\n",
    "    # padding zeros \n",
    "    input_size = data.shape[1]\n",
    "    sample = torch.zeros((batch_size,nz), dtype=torch.float)\n",
    "    sample[:,:(input_size-1)] = torch.tensor(data[:,:-1], dtype=torch.float)\n",
    "    h_value = torch.tensor(data[:,5], dtype=torch.float)\n",
    "    # zero out gradients \n",
    "    opt.zero_grad()\n",
    "    # forward recursion \n",
    "    est_h_value = nn_landS_model(sample)\n",
    "    # loss \n",
    "    loss = criterion(est_h_value.view(-1,1), h_value.view(-1,1))\n",
    "    loss_record.append(loss.item())\n",
    "    # backward recursion \n",
    "    loss.backward()\n",
    "    # update the weights \n",
    "    opt.step()\n",
    "\n",
    "    if train_it % 100 == 0:\n",
    "      print(\"It {}, L2 loss: {} \".format(train_it, loss.item()))\n",
    "    train_it += 1\n",
    "\n",
    "# print the loss plot \n",
    "plt.plot(loss_record)\n",
    "plt.title('Training loss (MSE Loss)')\n",
    "plt.xlabel('Iteration number')\n",
    "plt.show()"
   ]
  },
  {
   "cell_type": "code",
   "execution_count": null,
   "metadata": {
    "id": "bn3aZF0IeA1Z",
    "outputId": "32c22d2b-8cf9-4d6c-9cda-81cd111dece6"
   },
   "outputs": [
    {
     "name": "stdout",
     "output_type": "stream",
     "text": [
      "Run Epoch 0\n",
      "It 0, L2 loss: 84649.28125 \n"
     ]
    },
    {
     "name": "stderr",
     "output_type": "stream",
     "text": [
      "/Users/sonny/Documents/Courses/CSCI566/Project/venv_cs566_project/lib/python3.6/site-packages/ipykernel_launcher.py:20: UserWarning: To copy construct from a tensor, it is recommended to use sourceTensor.clone().detach() or sourceTensor.clone().detach().requires_grad_(True), rather than torch.tensor(sourceTensor).\n",
      "/Users/sonny/Documents/Courses/CSCI566/Project/venv_cs566_project/lib/python3.6/site-packages/ipykernel_launcher.py:21: UserWarning: To copy construct from a tensor, it is recommended to use sourceTensor.clone().detach() or sourceTensor.clone().detach().requires_grad_(True), rather than torch.tensor(sourceTensor).\n"
     ]
    },
    {
     "name": "stdout",
     "output_type": "stream",
     "text": [
      "It 100, L2 loss: 91551.734375 \n",
      "Run Epoch 1\n",
      "It 200, L2 loss: 89190.8359375 \n",
      "It 300, L2 loss: 79344.2890625 \n",
      "Run Epoch 2\n",
      "It 400, L2 loss: 68844.9296875 \n",
      "It 500, L2 loss: 40509.6015625 \n",
      "Run Epoch 3\n",
      "It 600, L2 loss: 20384.740234375 \n",
      "It 700, L2 loss: 4701.70166015625 \n",
      "Run Epoch 4\n",
      "It 800, L2 loss: 1519.7071533203125 \n",
      "It 900, L2 loss: 1673.678466796875 \n",
      "Run Epoch 5\n",
      "It 1000, L2 loss: 1456.060546875 \n",
      "It 1100, L2 loss: 1450.034423828125 \n",
      "Run Epoch 6\n",
      "It 1200, L2 loss: 1084.776123046875 \n",
      "It 1300, L2 loss: 892.845703125 \n",
      "Run Epoch 7\n",
      "It 1400, L2 loss: 1129.451904296875 \n",
      "It 1500, L2 loss: 1028.3416748046875 \n",
      "Run Epoch 8\n",
      "It 1600, L2 loss: 730.272705078125 \n",
      "It 1700, L2 loss: 836.7918090820312 \n",
      "Run Epoch 9\n",
      "It 1800, L2 loss: 835.1300048828125 \n",
      "It 1900, L2 loss: 580.2921142578125 \n",
      "Run Epoch 10\n",
      "It 2000, L2 loss: 576.8096923828125 \n",
      "It 2100, L2 loss: 569.9874267578125 \n",
      "Run Epoch 11\n",
      "It 2200, L2 loss: 401.9956970214844 \n",
      "It 2300, L2 loss: 351.3668212890625 \n",
      "Run Epoch 12\n",
      "It 2400, L2 loss: 348.6658935546875 \n",
      "It 2500, L2 loss: 379.9643249511719 \n",
      "Run Epoch 13\n",
      "It 2600, L2 loss: 242.1552276611328 \n",
      "It 2700, L2 loss: 235.251953125 \n",
      "Run Epoch 14\n",
      "It 2800, L2 loss: 178.31607055664062 \n",
      "It 2900, L2 loss: 225.52926635742188 \n",
      "Run Epoch 15\n",
      "It 3000, L2 loss: 165.0232696533203 \n",
      "It 3100, L2 loss: 127.87916564941406 \n",
      "Run Epoch 16\n",
      "It 3200, L2 loss: 110.8744125366211 \n",
      "It 3300, L2 loss: 101.81674194335938 \n",
      "Run Epoch 17\n",
      "It 3400, L2 loss: 72.95442962646484 \n",
      "It 3500, L2 loss: 60.566864013671875 \n",
      "Run Epoch 18\n",
      "It 3600, L2 loss: 63.7621955871582 \n",
      "It 3700, L2 loss: 74.08235931396484 \n",
      "Run Epoch 19\n",
      "It 3800, L2 loss: 49.78466796875 \n",
      "It 3900, L2 loss: 36.54876708984375 \n"
     ]
    },
    {
     "data": {
      "image/png": "[encoded data removed]",
      "text/plain": [
       "<Figure size 432x288 with 1 Axes>"
      ]
     },
     "metadata": {
      "needs_background": "light",
      "tags": []
     },
     "output_type": "display_data"
    }
   ],
   "source": [
    "epoch = 20\n",
    "learning_rate = 1e-4\n",
    "nz = 10\n",
    "\n",
    "# build an neural network model\n",
    "nn_landS_model = nn_m2(nz)\n",
    "\n",
    "# set up the optimizer \n",
    "opt = torch.optim.Adam(nn_landS_model.parameters(), lr=learning_rate)\n",
    "criterion = nn.MSELoss() # MSE loss\n",
    "\n",
    "train_it = 0\n",
    "loss_record = []\n",
    "for ep in range(epoch):\n",
    "  print(\"Run Epoch {}\".format(ep))\n",
    "  for data in landS_train_data_loader:\n",
    "    # padding zeros \n",
    "    input_size = data.shape[1]\n",
    "    sample = torch.zeros((batch_size,nz), dtype=torch.float)\n",
    "    sample[:,:(input_size-1)] = torch.tensor(data[:,:-1], dtype=torch.float)\n",
    "    h_value = torch.tensor(data[:,5], dtype=torch.float)\n",
    "    # zero out gradients \n",
    "    opt.zero_grad()\n",
    "    # forward recursion \n",
    "    est_h_value = nn_landS_model(sample)\n",
    "    # loss \n",
    "    loss = criterion(est_h_value.view(-1,1), h_value.view(-1,1))\n",
    "    loss_record.append(loss.item())\n",
    "    # backward recursion \n",
    "    loss.backward()\n",
    "    # update the weights \n",
    "    opt.step()\n",
    "\n",
    "    if train_it % 100 == 0:\n",
    "      print(\"It {}, L2 loss: {} \".format(train_it, loss.item()))\n",
    "    train_it += 1\n",
    "\n",
    "# print the loss plot \n",
    "plt.plot(loss_record)\n",
    "plt.title('Training loss (MSE Loss)')\n",
    "plt.xlabel('Iteration number')\n",
    "plt.show()"
   ]
  },
  {
   "cell_type": "markdown",
   "metadata": {
    "id": "prbGxvTyeA1e"
   },
   "source": [
    "**Model Agnostic Meta Learning Model**"
   ]
  },
  {
   "cell_type": "code",
   "execution_count": null,
   "metadata": {
    "id": "8k88WGhLeA1e"
   },
   "outputs": [],
   "source": [
    "import torch.nn.functional as F\n",
    "# Neural Network Architecture \n",
    "# Linear, output units: 40\n",
    "# ReLU \n",
    "# Linear, output units: 1\n",
    "\n",
    "class maml_m1(nn.Module):\n",
    "    def __init__(self, nz):\n",
    "        super().__init__()\n",
    "        self.net = nn.Sequential(\n",
    "            nn.Linear(nz, 40, bias=True),\n",
    "            nn.ReLU(),\n",
    "            nn.Linear(40, 1, bias=True))\n",
    "    \n",
    "    def get_weights(self):\n",
    "        weights_dict = {}\n",
    "        for name, parameter in self.net.named_parameters():\n",
    "            weights_dict[name] = parameter\n",
    "        return weights_dict\n",
    "    \n",
    "    def adapt_forward(self, x, weights_dict):\n",
    "        x = F.linear(x, weights_dict['0.weight'], weights_dict['0.bias'])\n",
    "        x = F.relu(x)\n",
    "        x = F.linear(x, weights_dict['2.weight'], weights_dict['2.bias'])\n",
    "        return x\n",
    "    \n",
    "    def forward(self, x):\n",
    "        return self.net(x)"
   ]
  },
  {
   "cell_type": "code",
   "execution_count": null,
   "metadata": {
    "id": "BtToWB05eA1j"
   },
   "outputs": [],
   "source": [
    "# Neural Network Architecture \n",
    "# Linear, output units: 40\n",
    "# ReLU \n",
    "# Linear, output units: 80\n",
    "# ReLU \n",
    "# Linear, output units: 40\n",
    "# ReLU \n",
    "# Linear, output units: 1\n",
    "\n",
    "\n",
    "class maml_m2(nn.Module):\n",
    "    def __init__(self, nz):\n",
    "        super().__init__()\n",
    "        self.net = nn.Sequential(\n",
    "            nn.Linear(nz, 40, bias=True),\n",
    "            nn.ReLU(),\n",
    "            nn.Linear(40, 80, bias=True),\n",
    "            nn.ReLU(),\n",
    "            nn.Linear(80, 40, bias=True),\n",
    "            nn.ReLU(),\n",
    "            nn.Linear(40, 1, bias=True))\n",
    "    \n",
    "    def get_weights(self):\n",
    "        weights_dict = {}\n",
    "        for name, parameter in self.net.named_parameters():\n",
    "            weights_dict[name] = parameter\n",
    "        return weights_dict\n",
    "    \n",
    "    def adapt_forward(self, x, weights_dict):\n",
    "        x = F.linear(x, weights_dict['0.weight'], weights_dict['0.bias'])\n",
    "        x = F.relu(x)\n",
    "        x = F.linear(x, weights_dict['2.weight'], weights_dict['2.bias'])\n",
    "        x = F.relu(x)\n",
    "        x = F.linear(x, weights_dict['4.weight'], weights_dict['4.bias'])\n",
    "        x = F.relu(x)\n",
    "        x = F.linear(x, weights_dict['6.weight'], weights_dict['6.bias'])\n",
    "        return x\n",
    "    \n",
    "    def forward(self, x):\n",
    "        return self.net(x)"
   ]
  },
  {
   "cell_type": "markdown",
   "metadata": {
    "id": "pfUyy6JJeA1n"
   },
   "source": [
    "Weights update function in the inner loop (adaptation)\n",
    "\n",
    "$\\theta'_i = \\theta - \\alpha \\nabla_\\theta L_{\\mathcal{L}_i}(f_\\theta) $"
   ]
  },
  {
   "cell_type": "code",
   "execution_count": null,
   "metadata": {
    "id": "8KtTZAPheA1o"
   },
   "outputs": [],
   "source": [
    "def update_weights(loss, weights_dict, lr):\n",
    "    new_weights_dict = {}\n",
    "    grads = {}\n",
    "    for name in weights_dict:\n",
    "        grad = torch.autograd.grad(loss, weights_dict[name], retain_graph=True)\n",
    "        grads[name] = grad[0]\n",
    "    for name in weights_dict:\n",
    "        new_weights_dict[name] = weights_dict[name] - lr * grads[name]\n",
    "    return new_weights_dict"
   ]
  },
  {
   "cell_type": "markdown",
   "metadata": {
    "id": "vrh-9oa0eA1t"
   },
   "source": [
    "Main Trainging Loop\n",
    "\n",
    "Update in the outer loop \n",
    "$\\theta \\leftarrow \\theta - \\beta \\nabla_\\theta \\sum_{i} \\mathcal{L}_{\\mathcal{T}_i} (f_{\\theta'_i})$"
   ]
  },
  {
   "cell_type": "code",
   "execution_count": null,
   "metadata": {
    "id": "5k_NKZcgeA1t",
    "outputId": "25e2b5fb-ede7-41ab-83e4-49e02baebf80"
   },
   "outputs": [
    {
     "name": "stderr",
     "output_type": "stream",
     "text": [
      "/Users/sonny/Documents/Courses/CSCI566/Project/venv_cs566_project/lib/python3.6/site-packages/ipykernel_launcher.py:24: UserWarning: To copy construct from a tensor, it is recommended to use sourceTensor.clone().detach() or sourceTensor.clone().detach().requires_grad_(True), rather than torch.tensor(sourceTensor).\n",
      "/Users/sonny/Documents/Courses/CSCI566/Project/venv_cs566_project/lib/python3.6/site-packages/ipykernel_launcher.py:26: UserWarning: To copy construct from a tensor, it is recommended to use sourceTensor.clone().detach() or sourceTensor.clone().detach().requires_grad_(True), rather than torch.tensor(sourceTensor).\n"
     ]
    },
    {
     "name": "stdout",
     "output_type": "stream",
     "text": [
      "It 0, traning loss: 82313.375\n"
     ]
    },
    {
     "name": "stderr",
     "output_type": "stream",
     "text": [
      "/Users/sonny/Documents/Courses/CSCI566/Project/venv_cs566_project/lib/python3.6/site-packages/ipykernel_launcher.py:50: UserWarning: To copy construct from a tensor, it is recommended to use sourceTensor.clone().detach() or sourceTensor.clone().detach().requires_grad_(True), rather than torch.tensor(sourceTensor).\n",
      "/Users/sonny/Documents/Courses/CSCI566/Project/venv_cs566_project/lib/python3.6/site-packages/ipykernel_launcher.py:52: UserWarning: To copy construct from a tensor, it is recommended to use sourceTensor.clone().detach() or sourceTensor.clone().detach().requires_grad_(True), rather than torch.tensor(sourceTensor).\n"
     ]
    },
    {
     "name": "stdout",
     "output_type": "stream",
     "text": [
      "It 50, traning loss: 84685.765625\n",
      "It 100, traning loss: 89082.71875\n",
      "It 150, traning loss: 87889.0703125\n"
     ]
    }
   ],
   "source": [
    "outer_iteration = 200\n",
    "beta = 1e-5\n",
    "alpha = 1e-5\n",
    "nz = 10 # number of input units \n",
    "\n",
    "debug_mod = False\n",
    "maml_model = maml_m1(nz)\n",
    "maml_model = maml_model.train()\n",
    "maml_opt = torch.optim.Adam(maml_model.parameters(), lr=beta)\n",
    "\n",
    "criterion = nn.MSELoss() # MSE loss\n",
    "loss_record = []\n",
    "for outer_it in range(outer_iteration):\n",
    "    outer_loop_total_loss = torch.tensor(0, dtype=torch.float)\n",
    "    for task in tasks: \n",
    "        maml_model.zero_grad() # zero out the gradients \n",
    "        cur_weights_dict = None\n",
    "        new_weights_dict = None\n",
    "        # inner loop adaptation \n",
    "        for data in train_data_loader[task]:\n",
    "            # padding zeros\n",
    "            input_size = data.shape[1]\n",
    "            inner_loop_sample = torch.zeros((batch_size,nz), dtype=torch.float)\n",
    "            inner_loop_sample[:,:(input_size-1)] = torch.tensor(data[:,:-1], dtype=torch.float)\n",
    "            # get true h value\n",
    "            h_value = torch.tensor(data[:,-1], dtype=torch.float)\n",
    "            # forward recursion \n",
    "            est_h_value = maml_model.forward(inner_loop_sample)\n",
    "            # compute MSE loss \n",
    "            inner_loop_loss = criterion(est_h_value.view(-1,1), h_value.view(-1,1))\n",
    "            # get weight dictionary \n",
    "            cur_weights_dict = maml_model.get_weights()\n",
    "            if debug_mod == True:\n",
    "                # show the cur_weights_dict (debug: to make sure cur_weights_dict does not change in the inner loop)\n",
    "                print('It {}, task: {}'.format(outer_it, task))\n",
    "                print('***MAML weights***')\n",
    "                print(cur_weights_dict)\n",
    "            # inner loop update by SGD\n",
    "            new_weights_dict = update_weights(inner_loop_loss, cur_weights_dict, alpha)\n",
    "            if debug_mod == True:\n",
    "                print('***Adapted weights***')\n",
    "                print(new_weights_dict)\n",
    "            # only one batch is used in one inner loop\n",
    "            break\n",
    "        # calculate adaptation loss \n",
    "        for data in val_data_loader[task]:\n",
    "            # padding zeros \n",
    "            input_size = data.shape[1]\n",
    "            outer_loop_sample = torch.zeros((batch_size,nz), dtype=torch.float)\n",
    "            outer_loop_sample[:,:(input_size-1)] = torch.tensor(data[:,:-1], dtype=torch.float)\n",
    "            # get true h value \n",
    "            h_value = torch.tensor(data[:,-1], dtype=torch.float)\n",
    "            # get estimated h value by using the adapted weights \n",
    "            est_h_value = maml_model.adapt_forward(outer_loop_sample,new_weights_dict)\n",
    "            # calculate adaptation loss \n",
    "            outer_loop_loss = criterion(est_h_value.view(-1,1), h_value.view(-1,1))\n",
    "            # add the adaptation loss to the total adaptation loss \n",
    "            outer_loop_total_loss += outer_loop_loss\n",
    "            break\n",
    "    # record the loss \n",
    "    loss_record.append(outer_loop_total_loss)\n",
    "    # update the weight of MAML model based on the total adaptation loss \n",
    "    maml_model.zero_grad()\n",
    "    outer_loop_total_loss.backward()\n",
    "    maml_opt.step()\n",
    "    if outer_it % 50 == 0:\n",
    "        print('It {}, traning loss: {}'.format(outer_it, outer_loop_total_loss))"
   ]
  },
  {
   "cell_type": "code",
   "execution_count": null,
   "metadata": {
    "id": "yM4AtHdWeA1x",
    "outputId": "a1fcf871-47bd-4662-b977-9e5acc2eab4b"
   },
   "outputs": [
    {
     "data": {
      "image/png": "[encoded data removed]",
      "text/plain": [
       "<Figure size 432x288 with 1 Axes>"
      ]
     },
     "metadata": {
      "needs_background": "light",
      "tags": []
     },
     "output_type": "display_data"
    }
   ],
   "source": [
    "# print out the loss curve\n",
    "plt.plot(loss_record)\n",
    "plt.xlabel('Iteration number')\n",
    "plt.show()"
   ]
  },
  {
   "cell_type": "code",
   "execution_count": null,
   "metadata": {
    "id": "qbjovDLieA11",
    "outputId": "bfe96cfb-fcba-4738-b106-8fdb6b8e4b10"
   },
   "outputs": [
    {
     "name": "stderr",
     "output_type": "stream",
     "text": [
      "/Users/sonny/Documents/Courses/CSCI566/Project/venv_cs566_project/lib/python3.6/site-packages/ipykernel_launcher.py:24: UserWarning: To copy construct from a tensor, it is recommended to use sourceTensor.clone().detach() or sourceTensor.clone().detach().requires_grad_(True), rather than torch.tensor(sourceTensor).\n",
      "/Users/sonny/Documents/Courses/CSCI566/Project/venv_cs566_project/lib/python3.6/site-packages/ipykernel_launcher.py:26: UserWarning: To copy construct from a tensor, it is recommended to use sourceTensor.clone().detach() or sourceTensor.clone().detach().requires_grad_(True), rather than torch.tensor(sourceTensor).\n"
     ]
    },
    {
     "name": "stdout",
     "output_type": "stream",
     "text": [
      "It 0, traning loss: 85687.4765625\n"
     ]
    },
    {
     "name": "stderr",
     "output_type": "stream",
     "text": [
      "/Users/sonny/Documents/Courses/CSCI566/Project/venv_cs566_project/lib/python3.6/site-packages/ipykernel_launcher.py:50: UserWarning: To copy construct from a tensor, it is recommended to use sourceTensor.clone().detach() or sourceTensor.clone().detach().requires_grad_(True), rather than torch.tensor(sourceTensor).\n",
      "/Users/sonny/Documents/Courses/CSCI566/Project/venv_cs566_project/lib/python3.6/site-packages/ipykernel_launcher.py:52: UserWarning: To copy construct from a tensor, it is recommended to use sourceTensor.clone().detach() or sourceTensor.clone().detach().requires_grad_(True), rather than torch.tensor(sourceTensor).\n"
     ]
    },
    {
     "name": "stdout",
     "output_type": "stream",
     "text": [
      "It 50, traning loss: 88456.5546875\n",
      "It 100, traning loss: 81873.7578125\n",
      "It 150, traning loss: 81129.265625\n",
      "It 200, traning loss: 78112.40625\n",
      "It 250, traning loss: 87879.5859375\n",
      "It 300, traning loss: 69622.796875\n",
      "It 350, traning loss: 61281.8515625\n",
      "It 400, traning loss: 39780.23046875\n",
      "It 450, traning loss: 17233.419921875\n",
      "It 500, traning loss: 3620.650390625\n",
      "It 550, traning loss: 4811.0419921875\n",
      "It 600, traning loss: 2371.85107421875\n",
      "It 650, traning loss: 2969.6796875\n",
      "It 700, traning loss: 3601.994140625\n",
      "It 750, traning loss: 2850.330322265625\n",
      "It 800, traning loss: 3163.48876953125\n",
      "It 850, traning loss: 2277.128173828125\n",
      "It 900, traning loss: 1942.096923828125\n",
      "It 950, traning loss: 1925.8560791015625\n"
     ]
    }
   ],
   "source": [
    "outer_iteration = 1000\n",
    "beta = 1e-4\n",
    "alpha = 1e-5\n",
    "nz = 10 # number of input units \n",
    "\n",
    "debug_mod = False\n",
    "maml_model = maml_m2(nz)\n",
    "maml_model = maml_model.train()\n",
    "maml_opt = torch.optim.Adam(maml_model.parameters(), lr=beta)\n",
    "\n",
    "criterion = nn.MSELoss() # MSE loss\n",
    "loss_record = []\n",
    "for outer_it in range(outer_iteration):\n",
    "    outer_loop_total_loss = torch.tensor(0, dtype=torch.float)\n",
    "    for task in tasks: \n",
    "        maml_model.zero_grad() # zero out the gradients \n",
    "        cur_weights_dict = None\n",
    "        new_weights_dict = None\n",
    "        # inner loop adaptation \n",
    "        for data in train_data_loader[task]:\n",
    "            # padding zeros\n",
    "            input_size = data.shape[1]\n",
    "            inner_loop_sample = torch.zeros((batch_size,nz), dtype=torch.float)\n",
    "            inner_loop_sample[:,:(input_size-1)] = torch.tensor(data[:,:-1], dtype=torch.float)\n",
    "            # get true h value\n",
    "            h_value = torch.tensor(data[:,-1], dtype=torch.float)\n",
    "            # forward recursion \n",
    "            est_h_value = maml_model.forward(inner_loop_sample)\n",
    "            # compute MSE loss \n",
    "            inner_loop_loss = criterion(est_h_value.view(-1,1), h_value.view(-1,1))\n",
    "            # get weight dictionary \n",
    "            cur_weights_dict = maml_model.get_weights()\n",
    "            if debug_mod == True:\n",
    "                # show the cur_weights_dict (debug: to make sure cur_weights_dict does not change in the inner loop)\n",
    "                print('It {}, task: {}'.format(outer_it, task))\n",
    "                print('***MAML weights***')\n",
    "                print(cur_weights_dict)\n",
    "            # inner loop update by SGD\n",
    "            new_weights_dict = update_weights(inner_loop_loss, cur_weights_dict, alpha)\n",
    "            if debug_mod == True:\n",
    "                print('***Adapted weights***')\n",
    "                print(new_weights_dict)\n",
    "            # only one batch is used in one inner loop\n",
    "            break\n",
    "        # calculate adaptation loss \n",
    "        for data in val_data_loader[task]:\n",
    "            # padding zeros \n",
    "            input_size = data.shape[1]\n",
    "            outer_loop_sample = torch.zeros((batch_size,nz), dtype=torch.float)\n",
    "            outer_loop_sample[:,:(input_size-1)] = torch.tensor(data[:,:-1], dtype=torch.float)\n",
    "            # get true h value \n",
    "            h_value = torch.tensor(data[:,-1], dtype=torch.float)\n",
    "            # get estimated h value by using the adapted weights \n",
    "            est_h_value = maml_model.adapt_forward(outer_loop_sample,new_weights_dict)\n",
    "            # calculate adaptation loss \n",
    "            outer_loop_loss = criterion(est_h_value.view(-1,1), h_value.view(-1,1))\n",
    "            # add the adaptation loss to the total adaptation loss \n",
    "            outer_loop_total_loss += outer_loop_loss\n",
    "            break\n",
    "    # record the loss \n",
    "    loss_record.append(outer_loop_total_loss)\n",
    "    # update the weight of MAML model based on the total adaptation loss \n",
    "    maml_model.zero_grad()\n",
    "    outer_loop_total_loss.backward()\n",
    "    maml_opt.step()\n",
    "    if outer_it % 50 == 0:\n",
    "        print('It {}, traning loss: {}'.format(outer_it, outer_loop_total_loss))"
   ]
  },
  {
   "cell_type": "code",
   "execution_count": null,
   "metadata": {
    "id": "Rh8rW4oqeA15",
    "outputId": "2c3fc883-4b32-4e80-f853-f4bb7eee1d46"
   },
   "outputs": [
    {
     "data": {
      "image/png": "[encoded data removed]",
      "text/plain": [
       "<Figure size 432x288 with 1 Axes>"
      ]
     },
     "metadata": {
      "needs_background": "light",
      "tags": []
     },
     "output_type": "display_data"
    }
   ],
   "source": [
    "# print out the loss curve\n",
    "plt.plot(loss_record)\n",
    "plt.xlabel('Iteration number')\n",
    "plt.show()"
   ]
  },
  {
   "cell_type": "code",
   "execution_count": null,
   "metadata": {
    "id": "pRFfqLBoeA19"
   },
   "outputs": [],
   "source": []
  }
 ],
 "metadata": {
  "colab": {
   "name": "Copy of maml_train_v2.ipynb",
   "provenance": []
  },
  "kernelspec": {
   "display_name": "Python 3",
   "language": "python",
   "name": "python3"
  },
  "language_info": {
   "codemirror_mode": {
    "name": "ipython",
    "version": 3
   },
   "file_extension": ".py",
   "mimetype": "text/x-python",
   "name": "python",
   "nbconvert_exporter": "python",
   "pygments_lexer": "ipython3",
   "version": "3.7.3"
  },
  "pycharm": {
   "stem_cell": {
    "cell_type": "raw",
    "metadata": {
     "collapsed": false
    },
    "source": []
   }
  }
 },
 "nbformat": 4,
 "nbformat_minor": 1
}
